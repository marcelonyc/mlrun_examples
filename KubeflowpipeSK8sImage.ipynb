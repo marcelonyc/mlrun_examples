{
 "cells": [
  {
   "cell_type": "markdown",
   "metadata": {},
   "source": [
    "# Creating A Pipeline Using MLRUN"
   ]
  },
  {
   "cell_type": "code",
   "execution_count": 33,
   "metadata": {},
   "outputs": [],
   "source": [
    "from mlrun.builder import upload_tarball, build_image"
   ]
  },
  {
   "cell_type": "markdown",
   "metadata": {},
   "source": [
    "### Build image to run on Kubeflow step\n",
    "This is a one time only task"
   ]
  },
  {
   "cell_type": "code",
   "execution_count": null,
   "metadata": {},
   "outputs": [],
   "source": [
    "img_name = build_image('mlrun/sparkk8s', base_image = 'python:3.6-jessie',\n",
    "            commands = ['pip install git+https://github.com/marcelonyc/mlrun',\\\n",
    "'apt-get update && apt-get install -y apt-transport-https',\\\n",
    "'curl -s https://packages.cloud.google.com/apt/doc/apt-key.gpg > /tmp/apt-key',\\\n",
    "'apt-key add /tmp/apt-key',\\\n",
    "'echo \"deb https://apt.kubernetes.io/ kubernetes-xenial main\" >> /etc/apt/sources.list.d/kubernetes.list',\\\n",
    "'apt-get update',\\\n",
    "'apt-get install -y kubectl wget'          ],\n",
    "          with_mlrun=False)"
   ]
  }
 ],
 "metadata": {
  "kernelspec": {
   "display_name": "Python 3",
   "language": "python",
   "name": "python3"
  },
  "language_info": {
   "codemirror_mode": {
    "name": "ipython",
    "version": 3
   },
   "file_extension": ".py",
   "mimetype": "text/x-python",
   "name": "python",
   "nbconvert_exporter": "python",
   "pygments_lexer": "ipython3",
   "version": "3.6.8"
  }
 },
 "nbformat": 4,
 "nbformat_minor": 2
}
